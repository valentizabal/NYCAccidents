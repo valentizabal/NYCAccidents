{
  "nbformat": 4,
  "nbformat_minor": 0,
  "metadata": {
    "colab": {
      "provenance": []
    },
    "kernelspec": {
      "name": "python3",
      "display_name": "Python 3"
    },
    "language_info": {
      "name": "python"
    }
  },
  "cells": [
    {
      "cell_type": "markdown",
      "source": [
        "<h1> 🚔 🏙 Analyzing Car Accidents in New York City <h1> "
      ],
      "metadata": {
        "id": "LNdA6wQC6pRR"
      }
    },
    {
      "cell_type": "markdown",
      "source": [
        "In this journal, we will be analyzing the number of accidents on the roads in the city of New York. For all the reported accidents, the [City of New York have collected](https://data.cityofnewyork.us/Public-Safety/Motor-Vehicle-Collisions-Crashes/h9gi-nx95) details for each accident and have been maintaining records for the past few years. For the purpose of this example, we'll be analyzing the data from January 2018 to August 2019.\n",
        "\n",
        "We will identify patterns in accidents, which would help them take preventive actions to reduce the number of accidents in the future. We will also be examining certain parameters like borough, time of day, reason for accident, etc."
      ],
      "metadata": {
        "id": "7pB9wz8E7K7Q"
      }
    },
    {
      "cell_type": "markdown",
      "source": [
        "These are the questions that we will be visiting:\n",
        "1. How have the number of accidents fluctuated over the past year and a half? Have they increased over that time?\n",
        "2. For any particular day, during which hours are accidents most likely to occur?\n",
        "3. Are there more accidents on weekdays than weekends?\n",
        "4. What are the accidents' count-to-area ratio per borough? Which boroughs have disproportionately large numbers of accidents for their size?\n",
        "5. For each borough, during which hours are accidents most likely to occur?\n",
        "6. What are the top 5 causes of accidents in the city? \n",
        "7. What types of vehicles are most involved in accidents per borough?\n",
        "8. What types of vehicles are most involved in deaths?"
      ],
      "metadata": {
        "id": "ekc9eUDk9QQY"
      }
    },
    {
      "cell_type": "markdown",
      "source": [
        "**<h4> How have the number of accidents fluctuated over the past year and a half? Have they increased over that time? <h4>**"
      ],
      "metadata": {
        "id": "d1eTS27f92u2"
      }
    },
    {
      "cell_type": "code",
      "source": [
        "#@title\n",
        "#importing libraries and data\n",
        "import json\n",
        "import pandas as pd\n",
        "import matplotlib.pyplot as plt\n",
        "import seaborn as sns\n",
        "import numpy as np\n",
        "import base64\n",
        "\n",
        "with open('/content/borough_data.json') as f:\n",
        "    borough_data=json.load(f)\n",
        "\n",
        "with open('/content/accidents (1).csv') as f:\n",
        "    df=pd.read_csv(f, delimiter=';')\n",
        "\n",
        "\n",
        "def m_a(df):\n",
        "    #new column w/ year and month\n",
        "    df['YEAR_MONTH'] = pd.to_datetime(df['DATE']).dt.to_period('M')\n",
        "\n",
        "    #group by month\n",
        "    monthly_accidents = df.groupby('YEAR_MONTH').size()\n",
        "    \n",
        "    return monthly_accidents\n",
        "\n",
        "#create line graph for monthly accidents\n",
        "m_a(df).plot.line(title = \"Accidents Over Time\",\n",
        "                   xlabel = \"Month in Year\",\n",
        "                   ylabel = \"# of  Accident\",\n",
        "                   grid = True,\n",
        "                   figsize=(15, 3))"
      ],
      "metadata": {
        "id": "wM_4EPHO91Z4",
        "colab": {
          "base_uri": "https://localhost:8080/",
          "height": 270
        },
        "outputId": "34d18b28-60e9-496f-d8ad-ed03e7da0c5e"
      },
      "execution_count": null,
      "outputs": [
        {
          "output_type": "execute_result",
          "data": {
            "text/plain": [
              "<matplotlib.axes._subplots.AxesSubplot at 0x7fd76f542d60>"
            ]
          },
          "metadata": {},
          "execution_count": 1
        },
        {
          "output_type": "display_data",
          "data": {
            "text/plain": [
              "<Figure size 1080x216 with 1 Axes>"
            ],
            "image/png": "[encoded data removed]"
          },
          "metadata": {
            "needs_background": "light"
          }
        }
      ]
    },
    {
      "cell_type": "markdown",
      "source": [
        "The line graph above shows that the number of accidents has mildly decreased, but is overall stable. There was a steady drop in accidents between December of 2018 and February of 2019, then continued to rise afterwards, but not as dramatically as the previous year. The drop in these months can be attributed to bad weather and snow conditions, many citizens may feel less confident in drying in ice roads and feel safer using public transportation\n",
        "\n",
        "It can be also suspected that the data in August 2019 is not complete, explaining the sharp decline after July 2019."
      ],
      "metadata": {
        "id": "12TITcUuBr2V"
      }
    },
    {
      "cell_type": "markdown",
      "source": [
        "**<h4> For any particular day, during which hours are accidents most likely to occur?**"
      ],
      "metadata": {
        "id": "LTHzHy_LeAMM"
      }
    },
    {
      "cell_type": "code",
      "source": [
        "#@title\n",
        "def h_a(df):\n",
        "    df['HOUR'] = pd.to_datetime(df['TIME']).dt.hour\n",
        "    hourly_accidents = df.groupby(['HOUR']).size()\n",
        "\n",
        "    \n",
        "    return hourly_accidents\n",
        "\n",
        "h_a(df).plot.bar(title = \"Accidents by Time of Day\",\n",
        "                  xlabel = 'Hour',\n",
        "                  ylabel = \"# of Accidents\",\n",
        "                  figsize = (6,6))"
      ],
      "metadata": {
        "id": "96vu7BHae8y-",
        "cellView": "form",
        "colab": {
          "base_uri": "https://localhost:8080/",
          "height": 424
        },
        "outputId": "34e57f53-145e-457f-ea85-6366ac4cdd06"
      },
      "execution_count": null,
      "outputs": [
        {
          "output_type": "execute_result",
          "data": {
            "text/plain": [
              "<matplotlib.axes._subplots.AxesSubplot at 0x7fd76f449160>"
            ]
          },
          "metadata": {},
          "execution_count": 2
        },
        {
          "output_type": "display_data",
          "data": {
            "text/plain": [
              "<Figure size 432x432 with 1 Axes>"
            ],
            "image/png": "[encoded data removed]"
          },
          "metadata": {
            "needs_background": "light"
          }
        }
      ]
    },
    {
      "cell_type": "markdown",
      "source": [
        "We can observe from this bar graph that the number of accidents tends to be low during the early hours of the morning (between hour 1 and hour 7), and sharply increases between hour 7 to hour 16, where it reaches it's peak. This peak can be attributed to \"rush. hour\" which is the time where most people are leaving their workplace. After hour 16, the number of accidents begins to gradually decrease."
      ],
      "metadata": {
        "id": "tsK2KOw_fR0u"
      }
    },
    {
      "cell_type": "markdown",
      "source": [
        "**<h4> Are there more accidents on weekdays than weekends?**"
      ],
      "metadata": {
        "id": "mW8ICsKYeCgY"
      }
    },
    {
      "cell_type": "code",
      "source": [
        "#@title\n",
        "def w_a(df):\n",
        "    df['WEEKDAY'] = pd.to_datetime(df[\"DATE\"]).dt.weekday\n",
        "    weekday_accidents = df.groupby([\"WEEKDAY\"]).size()\n",
        "\n",
        "    return weekday_accidents\n",
        "\n",
        "#plotting\n",
        "w_a(df).plot.bar(title = 'Accidents per Day of the Week',\n",
        "                  xlabel = 'Weekday',\n",
        "                  rot = 360,\n",
        "                  ylabel = \"# of Accidents\",\n",
        "                  figsize = (6,6))"
      ],
      "metadata": {
        "id": "GxCP3aKuf0r3",
        "colab": {
          "base_uri": "https://localhost:8080/",
          "height": 421
        },
        "outputId": "d9a78da7-5f15-4c25-a363-5e8b8d099c3e"
      },
      "execution_count": null,
      "outputs": [
        {
          "output_type": "execute_result",
          "data": {
            "text/plain": [
              "<matplotlib.axes._subplots.AxesSubplot at 0x7fd76b595d00>"
            ]
          },
          "metadata": {},
          "execution_count": 20
        },
        {
          "output_type": "display_data",
          "data": {
            "text/plain": [
              "<Figure size 432x432 with 1 Axes>"
            ],
            "image/png": "[encoded data removed]"
          },
          "metadata": {
            "needs_background": "light"
          }
        }
      ]
    },
    {
      "cell_type": "markdown",
      "source": [
        "In this bar graph 0 is Monday and 6 is Sunday.\n",
        "\n",
        "The graph shows that the number of accident's is pretty steady throughout the week, but slightly decreases during the weekends (Saturday and Sunday). Friday has the highest number of accidents in the week. "
      ],
      "metadata": {
        "id": "2PygT1F2gC4T"
      }
    },
    {
      "cell_type": "markdown",
      "source": [
        "**<h4> What are the accidents' count-to-area ratio per borough? Which boroughs have disproportionately large numbers of accidents for their size?**"
      ],
      "metadata": {
        "id": "bqpm5buqeF0v"
      }
    },
    {
      "cell_type": "code",
      "source": [
        "#@title\n",
        "def b_a(df):\n",
        "    boroughs = df.groupby(['BOROUGH']).size()\n",
        "    \n",
        "    return boroughs\n",
        "  \n",
        "  #plotting\n",
        "b_a(df).plot.bar(title = \"Accidents per Borough\",\n",
        "                    xlabel = \"Borough\",\n",
        "                    rot = 80,\n",
        "                    ylabel = \"# of Accidents\",\n",
        "                    figsize = (6,6))"
      ],
      "metadata": {
        "id": "zPvShTo1gVrY",
        "colab": {
          "base_uri": "https://localhost:8080/",
          "height": 489
        },
        "outputId": "69c6c914-cea5-4c30-d5e6-52c57e6ddf14"
      },
      "execution_count": null,
      "outputs": [
        {
          "output_type": "execute_result",
          "data": {
            "text/plain": [
              "<matplotlib.axes._subplots.AxesSubplot at 0x7fd76bdca880>"
            ]
          },
          "metadata": {},
          "execution_count": 22
        },
        {
          "output_type": "display_data",
          "data": {
            "text/plain": [
              "<Figure size 432x432 with 1 Axes>"
            ],
            "image/png": "[encoded data removed]"
          },
          "metadata": {
            "needs_background": "light"
          }
        }
      ]
    },
    {
      "cell_type": "markdown",
      "source": [
        "To answer this question, it was important that we get a good understanding of the data that we are about to analyze. I decided to plot which boroughs tend to have the most accidents. \n",
        "\n",
        "In this bar graph, we are able to identify Brooklyn as having the highest number of car accidents and Staten Island as the borough with significantly less collisions."
      ],
      "metadata": {
        "id": "Un6y5oIWgqdR"
      }
    },
    {
      "cell_type": "code",
      "source": [
        "#@title\n",
        "def a_sqm(df, borough_data):\n",
        "    boroughs = b_a(df)\n",
        "    borough_frame = pd.DataFrame(boroughs).reset_index()\n",
        "\n",
        "    # borough_dict into df\n",
        "    borough_dict=[]\n",
        "\n",
        "    for i in borough_data.items():\n",
        "      borough_dict.append([i[0], i[1]])\n",
        "\n",
        "    temp = pd.DataFrame(borough_dict, columns = ['Borough', 'b'])\n",
        "    bdict_df = pd.json_normalize(json.loads(temp.to_json(orient=\"records\")))\n",
        "\n",
        "    # add area column for bdict_df to borough_frame\n",
        "\n",
        "    borough_frame = borough_frame.rename(columns = {'BOROUGH' : 'borough',\n",
        "                                                0: 'accidents'})\n",
        "    borough_frame['area'] = bdict_df['b.area']\n",
        "\n",
        "    # Create columns that calculates the accidents per square mile\n",
        "    borough_frame['accidents_per_sq_mi'] = borough_frame['accidents'] / borough_frame['area']\n",
        " \n",
        "    return borough_frame\n",
        "\n",
        "# plotting\n",
        "a_sqm(df, borough_data).plot.bar(x = 'borough',\n",
        "                                  y = 'accidents_per_sq_mi',\n",
        "                                  figsize = (6,6),\n",
        "                                  title = 'Accidents per Square Mile',\n",
        "                                  xlabel = 'Borough',\n",
        "                                  rot = 80,\n",
        "                                  ylabel = '# of accidents',\n",
        "                                  legend = False)"
      ],
      "metadata": {
        "id": "3yaRSvcLhLcW",
        "colab": {
          "base_uri": "https://localhost:8080/",
          "height": 489
        },
        "outputId": "197f8317-8372-4824-fb86-1d09a0e90ff2"
      },
      "execution_count": null,
      "outputs": [
        {
          "output_type": "execute_result",
          "data": {
            "text/plain": [
              "<matplotlib.axes._subplots.AxesSubplot at 0x7fd76bc4a340>"
            ]
          },
          "metadata": {},
          "execution_count": 23
        },
        {
          "output_type": "display_data",
          "data": {
            "text/plain": [
              "<Figure size 432x432 with 1 Axes>"
            ],
            "image/png": "[encoded data removed]"
          },
          "metadata": {
            "needs_background": "light"
          }
        }
      ]
    },
    {
      "cell_type": "markdown",
      "source": [
        "Using the area information in the data dictionary, I was able to divide the number of accidents by the area of their respective borough.\n",
        "\n",
        "The graph above demonstrated that Manhattan is the borough with the highest accidents per square mile, which Staten Island continues to be the borough significantly less accidents."
      ],
      "metadata": {
        "id": "FJYyH6QBh6qR"
      }
    },
    {
      "cell_type": "markdown",
      "source": [
        "**<h4> For each borough, during which hours are accidents most likely to occur?**"
      ],
      "metadata": {
        "id": "SSjsyPXkeJc1"
      }
    },
    {
      "cell_type": "code",
      "source": [
        "#@title\n",
        "def b_hr(df):\n",
        "    bor_hour = df.groupby(['BOROUGH', 'HOUR']).size()\n",
        "    \n",
        "    return bor_hour\n",
        "\n",
        "bor_hour_df = b_hr(df).to_frame().reset_index()\n",
        "bor_hour_df = bor_hour_df.rename(columns = {0:'Accidents'})\n",
        "bor_hour_df\n",
        "\n",
        "g = sns.FacetGrid(bor_hour_df, col = 'BOROUGH', height = 5, col_wrap = 3)\n",
        "\n",
        "g.map(sns.barplot, 'HOUR', 'Accidents')\n",
        "g.set_titles(col_template = '{col_name}', size = 15);"
      ],
      "metadata": {
        "id": "F9Ft1QlFj6-2",
        "colab": {
          "base_uri": "https://localhost:8080/",
          "height": 768
        },
        "outputId": "aec309c4-8a9d-428e-8430-114539ce9dd7"
      },
      "execution_count": null,
      "outputs": [
        {
          "output_type": "stream",
          "name": "stderr",
          "text": [
            "/usr/local/lib/python3.8/dist-packages/seaborn/axisgrid.py:670: UserWarning: Using the barplot function without specifying `order` is likely to produce an incorrect plot.\n",
            "  warnings.warn(warning)\n"
          ]
        },
        {
          "output_type": "display_data",
          "data": {
            "text/plain": [
              "<Figure size 1080x720 with 5 Axes>"
            ],
            "image/png": "[encoded data removed]"
          },
          "metadata": {
            "needs_background": "light"
          }
        }
      ]
    },
    {
      "cell_type": "markdown",
      "source": [
        "There is a general trend in each borough, where the peak of car accidents occur during the 14th and 17th hour, and the least amount of accidents occur between 1 AM and 5 AM.\n",
        "\n",
        "For a more specific look at which hour are more accidents to occur in each borough: \n",
        "- The Bronx has the most accidents at the 16th\n",
        "- Brooklyn as the most accidents at the 16th hour\n",
        "- Manhattan as the most accidents at the 14th hour\n",
        "- Queens as the most accidents at the 17th hour\n",
        "- Staten Island as the most accidents at the 16th hour"
      ],
      "metadata": {
        "id": "Hg4KOxtJkKPy"
      }
    },
    {
      "cell_type": "markdown",
      "source": [
        "<h4> What are the top 5 causes of accidents in the city?"
      ],
      "metadata": {
        "id": "Wr7V6096eLVo"
      }
    },
    {
      "cell_type": "code",
      "source": [
        "#@title\n",
        "def top_5(df):\n",
        "    contrib_df = pd.melt(df.reset_index(), id_vars=\"index\", value_vars=['CONTRIBUTING FACTOR VEHICLE 1',\n",
        "       'CONTRIBUTING FACTOR VEHICLE 2', 'CONTRIBUTING FACTOR VEHICLE 3',\n",
        "       'CONTRIBUTING FACTOR VEHICLE 4', 'CONTRIBUTING FACTOR VEHICLE 5']).dropna()\n",
        "\n",
        "    contrib_df = contrib_df.drop_duplicates(subset = ['index', 'value'])\n",
        "\n",
        "    factors_most_acc = contrib_df.groupby('value').count().sort_values(by = 'index', ascending = False).head(5)\n",
        "    factors_most_acc = factors_most_acc.drop(columns=\"variable\")\n",
        "    factors_most_acc = factors_most_acc.rename(columns={'value': 'Contributing Factor', \n",
        "                                                        'index':'count'})\n",
        "    \n",
        "    return factors_most_acc\n",
        "\n",
        "top_5(df)"
      ],
      "metadata": {
        "id": "Bv8ShIKNMWWh",
        "colab": {
          "base_uri": "https://localhost:8080/",
          "height": 238
        },
        "cellView": "form",
        "outputId": "e680f029-5215-43ef-970e-ea211537bea1"
      },
      "execution_count": null,
      "outputs": [
        {
          "output_type": "execute_result",
          "data": {
            "text/plain": [
              "                                 count\n",
              "value                                 \n",
              "Unspecified                     190096\n",
              "Driver Inattention/Distraction   61752\n",
              "Failure to Yield Right-of-Way    19641\n",
              "Following Too Closely            17293\n",
              "Backing Unsafely                 14835"
            ],
            "text/html": [
              "\n",
              "  <div id=\"df-99997438-e411-4aa2-be1e-6aa1eddf31b2\">\n",
              "    <div class=\"colab-df-container\">\n",
              "      <div>\n",
              "<style scoped>\n",
              "    .dataframe tbody tr th:only-of-type {\n",
              "        vertical-align: middle;\n",
              "    }\n",
              "\n",
              "    .dataframe tbody tr th {\n",
              "        vertical-align: top;\n",
              "    }\n",
              "\n",
              "    .dataframe thead th {\n",
              "        text-align: right;\n",
              "    }\n",
              "</style>\n",
              "<table border=\"1\" class=\"dataframe\">\n",
              "  <thead>\n",
              "    <tr style=\"text-align: right;\">\n",
              "      <th></th>\n",
              "      <th>count</th>\n",
              "    </tr>\n",
              "    <tr>\n",
              "      <th>value</th>\n",
              "      <th></th>\n",
              "    </tr>\n",
              "  </thead>\n",
              "  <tbody>\n",
              "    <tr>\n",
              "      <th>Unspecified</th>\n",
              "      <td>190096</td>\n",
              "    </tr>\n",
              "    <tr>\n",
              "      <th>Driver Inattention/Distraction</th>\n",
              "      <td>61752</td>\n",
              "    </tr>\n",
              "    <tr>\n",
              "      <th>Failure to Yield Right-of-Way</th>\n",
              "      <td>19641</td>\n",
              "    </tr>\n",
              "    <tr>\n",
              "      <th>Following Too Closely</th>\n",
              "      <td>17293</td>\n",
              "    </tr>\n",
              "    <tr>\n",
              "      <th>Backing Unsafely</th>\n",
              "      <td>14835</td>\n",
              "    </tr>\n",
              "  </tbody>\n",
              "</table>\n",
              "</div>\n",
              "      <button class=\"colab-df-convert\" onclick=\"convertToInteractive('df-99997438-e411-4aa2-be1e-6aa1eddf31b2')\"\n",
              "              title=\"Convert this dataframe to an interactive table.\"\n",
              "              style=\"display:none;\">\n",
              "        \n",
              "  <svg xmlns=\"http://www.w3.org/2000/svg\" height=\"24px\"viewBox=\"0 0 24 24\"\n",
              "       width=\"24px\">\n",
              "    <path d=\"M0 0h24v24H0V0z\" fill=\"none\"/>\n",
              "    <path d=\"M18.56 5.44l.94 2.06.94-2.06 2.06-.94-2.06-.94-.94-2.06-.94 2.06-2.06.94zm-11 1L8.5 8.5l.94-2.06 2.06-.94-2.06-.94L8.5 2.5l-.94 2.06-2.06.94zm10 10l.94 2.06.94-2.06 2.06-.94-2.06-.94-.94-2.06-.94 2.06-2.06.94z\"/><path d=\"M17.41 7.96l-1.37-1.37c-.4-.4-.92-.59-1.43-.59-.52 0-1.04.2-1.43.59L10.3 9.45l-7.72 7.72c-.78.78-.78 2.05 0 2.83L4 21.41c.39.39.9.59 1.41.59.51 0 1.02-.2 1.41-.59l7.78-7.78 2.81-2.81c.8-.78.8-2.07 0-2.86zM5.41 20L4 18.59l7.72-7.72 1.47 1.35L5.41 20z\"/>\n",
              "  </svg>\n",
              "      </button>\n",
              "      \n",
              "  <style>\n",
              "    .colab-df-container {\n",
              "      display:flex;\n",
              "      flex-wrap:wrap;\n",
              "      gap: 12px;\n",
              "    }\n",
              "\n",
              "    .colab-df-convert {\n",
              "      background-color: #E8F0FE;\n",
              "      border: none;\n",
              "      border-radius: 50%;\n",
              "      cursor: pointer;\n",
              "      display: none;\n",
              "      fill: #1967D2;\n",
              "      height: 32px;\n",
              "      padding: 0 0 0 0;\n",
              "      width: 32px;\n",
              "    }\n",
              "\n",
              "    .colab-df-convert:hover {\n",
              "      background-color: #E2EBFA;\n",
              "      box-shadow: 0px 1px 2px rgba(60, 64, 67, 0.3), 0px 1px 3px 1px rgba(60, 64, 67, 0.15);\n",
              "      fill: #174EA6;\n",
              "    }\n",
              "\n",
              "    [theme=dark] .colab-df-convert {\n",
              "      background-color: #3B4455;\n",
              "      fill: #D2E3FC;\n",
              "    }\n",
              "\n",
              "    [theme=dark] .colab-df-convert:hover {\n",
              "      background-color: #434B5C;\n",
              "      box-shadow: 0px 1px 3px 1px rgba(0, 0, 0, 0.15);\n",
              "      filter: drop-shadow(0px 1px 2px rgba(0, 0, 0, 0.3));\n",
              "      fill: #FFFFFF;\n",
              "    }\n",
              "  </style>\n",
              "\n",
              "      <script>\n",
              "        const buttonEl =\n",
              "          document.querySelector('#df-99997438-e411-4aa2-be1e-6aa1eddf31b2 button.colab-df-convert');\n",
              "        buttonEl.style.display =\n",
              "          google.colab.kernel.accessAllowed ? 'block' : 'none';\n",
              "\n",
              "        async function convertToInteractive(key) {\n",
              "          const element = document.querySelector('#df-99997438-e411-4aa2-be1e-6aa1eddf31b2');\n",
              "          const dataTable =\n",
              "            await google.colab.kernel.invokeFunction('convertToInteractive',\n",
              "                                                     [key], {});\n",
              "          if (!dataTable) return;\n",
              "\n",
              "          const docLinkHtml = 'Like what you see? Visit the ' +\n",
              "            '<a target=\"_blank\" href=https://colab.research.google.com/notebooks/data_table.ipynb>data table notebook</a>'\n",
              "            + ' to learn more about interactive tables.';\n",
              "          element.innerHTML = '';\n",
              "          dataTable['output_type'] = 'display_data';\n",
              "          await google.colab.output.renderOutput(dataTable, element);\n",
              "          const docLink = document.createElement('div');\n",
              "          docLink.innerHTML = docLinkHtml;\n",
              "          element.appendChild(docLink);\n",
              "        }\n",
              "      </script>\n",
              "    </div>\n",
              "  </div>\n",
              "  "
            ]
          },
          "metadata": {},
          "execution_count": 7
        }
      ]
    },
    {
      "cell_type": "markdown",
      "source": [
        "<h4> What types of vehicles are most involved in accidents per borough?"
      ],
      "metadata": {
        "id": "i5FB0zdQeN9e"
      }
    },
    {
      "cell_type": "code",
      "source": [
        "#@title\n",
        "def top_veh_types(df):\n",
        "    \"\"\"\n",
        "    Finds the 10 borough:vehicle type pairs with more accidents, without \n",
        "    double counting the vehicle types of a single accident.\n",
        "    \n",
        "    Arguments:\n",
        "    `df`: A pandas DataFrame.\n",
        "    \n",
        "    Outputs:\n",
        "    `vehi_most_acc`: A pandas DataFrame. It has only 10 elements, which are,\n",
        "    sorted in descending order, the borough-vehicle pairs with the most accidents.\n",
        "    The column with the actual numbers is named `index`\n",
        "    \"\"\"\n",
        "\n",
        "    vehi_cols = ['VEHICLE TYPE CODE 1','VEHICLE TYPE CODE 2','VEHICLE TYPE CODE 3','VEHICLE TYPE CODE 4','VEHICLE TYPE CODE 5']\n",
        "    \n",
        "    vehi_bor_df = pd.melt(df.reset_index(), id_vars = ['index', 'BOROUGH'], value_vars= vehi_cols).dropna()\n",
        "    vehi_bor_df = vehi_bor_df.drop_duplicates(subset = ['index', 'value'])\n",
        "    vehi_bor_df = vehi_bor_df.drop(columns = 'variable')\n",
        "\n",
        "    vehi_most_acc = vehi_bor_df.groupby(['BOROUGH', 'value']).count().sort_values(by='index', ascending = False).head(10)    \n",
        "\n",
        "    vehi_most_acc = vehi_most_acc.rename(columns = {'BOROUGH':'Borough',\n",
        "                                                     'value': 'Vehicle Type',\n",
        "                                                     'index':'count'})\n",
        "    \n",
        "    return vehi_most_acc\n",
        "\n",
        "top_veh_types(df)"
      ],
      "metadata": {
        "id": "CJvijFOQRU0L",
        "colab": {
          "base_uri": "https://localhost:8080/",
          "height": 394
        },
        "outputId": "25b5c6d6-0ef2-41d9-caab-59aef7634549"
      },
      "execution_count": null,
      "outputs": [
        {
          "output_type": "execute_result",
          "data": {
            "text/plain": [
              "                                               count\n",
              "BOROUGH   value                                     \n",
              "BROOKLYN  Sedan                                39459\n",
              "QUEENS    Sedan                                35103\n",
              "BROOKLYN  Station Wagon/Sport Utility Vehicle  32262\n",
              "QUEENS    Station Wagon/Sport Utility Vehicle  31647\n",
              "MANHATTAN Sedan                                20727\n",
              "BRONX     Sedan                                19652\n",
              "MANHATTAN Station Wagon/Sport Utility Vehicle  16432\n",
              "BRONX     Station Wagon/Sport Utility Vehicle  15434\n",
              "BROOKLYN  PASSENGER VEHICLE                    10177\n",
              "MANHATTAN Taxi                                  8989"
            ],
            "text/html": [
              "\n",
              "  <div id=\"df-0b6d9188-8ba8-4786-a9d4-13908e787cac\">\n",
              "    <div class=\"colab-df-container\">\n",
              "      <div>\n",
              "<style scoped>\n",
              "    .dataframe tbody tr th:only-of-type {\n",
              "        vertical-align: middle;\n",
              "    }\n",
              "\n",
              "    .dataframe tbody tr th {\n",
              "        vertical-align: top;\n",
              "    }\n",
              "\n",
              "    .dataframe thead th {\n",
              "        text-align: right;\n",
              "    }\n",
              "</style>\n",
              "<table border=\"1\" class=\"dataframe\">\n",
              "  <thead>\n",
              "    <tr style=\"text-align: right;\">\n",
              "      <th></th>\n",
              "      <th></th>\n",
              "      <th>count</th>\n",
              "    </tr>\n",
              "    <tr>\n",
              "      <th>BOROUGH</th>\n",
              "      <th>value</th>\n",
              "      <th></th>\n",
              "    </tr>\n",
              "  </thead>\n",
              "  <tbody>\n",
              "    <tr>\n",
              "      <th>BROOKLYN</th>\n",
              "      <th>Sedan</th>\n",
              "      <td>39459</td>\n",
              "    </tr>\n",
              "    <tr>\n",
              "      <th>QUEENS</th>\n",
              "      <th>Sedan</th>\n",
              "      <td>35103</td>\n",
              "    </tr>\n",
              "    <tr>\n",
              "      <th>BROOKLYN</th>\n",
              "      <th>Station Wagon/Sport Utility Vehicle</th>\n",
              "      <td>32262</td>\n",
              "    </tr>\n",
              "    <tr>\n",
              "      <th>QUEENS</th>\n",
              "      <th>Station Wagon/Sport Utility Vehicle</th>\n",
              "      <td>31647</td>\n",
              "    </tr>\n",
              "    <tr>\n",
              "      <th>MANHATTAN</th>\n",
              "      <th>Sedan</th>\n",
              "      <td>20727</td>\n",
              "    </tr>\n",
              "    <tr>\n",
              "      <th>BRONX</th>\n",
              "      <th>Sedan</th>\n",
              "      <td>19652</td>\n",
              "    </tr>\n",
              "    <tr>\n",
              "      <th>MANHATTAN</th>\n",
              "      <th>Station Wagon/Sport Utility Vehicle</th>\n",
              "      <td>16432</td>\n",
              "    </tr>\n",
              "    <tr>\n",
              "      <th>BRONX</th>\n",
              "      <th>Station Wagon/Sport Utility Vehicle</th>\n",
              "      <td>15434</td>\n",
              "    </tr>\n",
              "    <tr>\n",
              "      <th>BROOKLYN</th>\n",
              "      <th>PASSENGER VEHICLE</th>\n",
              "      <td>10177</td>\n",
              "    </tr>\n",
              "    <tr>\n",
              "      <th>MANHATTAN</th>\n",
              "      <th>Taxi</th>\n",
              "      <td>8989</td>\n",
              "    </tr>\n",
              "  </tbody>\n",
              "</table>\n",
              "</div>\n",
              "      <button class=\"colab-df-convert\" onclick=\"convertToInteractive('df-0b6d9188-8ba8-4786-a9d4-13908e787cac')\"\n",
              "              title=\"Convert this dataframe to an interactive table.\"\n",
              "              style=\"display:none;\">\n",
              "        \n",
              "  <svg xmlns=\"http://www.w3.org/2000/svg\" height=\"24px\"viewBox=\"0 0 24 24\"\n",
              "       width=\"24px\">\n",
              "    <path d=\"M0 0h24v24H0V0z\" fill=\"none\"/>\n",
              "    <path d=\"M18.56 5.44l.94 2.06.94-2.06 2.06-.94-2.06-.94-.94-2.06-.94 2.06-2.06.94zm-11 1L8.5 8.5l.94-2.06 2.06-.94-2.06-.94L8.5 2.5l-.94 2.06-2.06.94zm10 10l.94 2.06.94-2.06 2.06-.94-2.06-.94-.94-2.06-.94 2.06-2.06.94z\"/><path d=\"M17.41 7.96l-1.37-1.37c-.4-.4-.92-.59-1.43-.59-.52 0-1.04.2-1.43.59L10.3 9.45l-7.72 7.72c-.78.78-.78 2.05 0 2.83L4 21.41c.39.39.9.59 1.41.59.51 0 1.02-.2 1.41-.59l7.78-7.78 2.81-2.81c.8-.78.8-2.07 0-2.86zM5.41 20L4 18.59l7.72-7.72 1.47 1.35L5.41 20z\"/>\n",
              "  </svg>\n",
              "      </button>\n",
              "      \n",
              "  <style>\n",
              "    .colab-df-container {\n",
              "      display:flex;\n",
              "      flex-wrap:wrap;\n",
              "      gap: 12px;\n",
              "    }\n",
              "\n",
              "    .colab-df-convert {\n",
              "      background-color: #E8F0FE;\n",
              "      border: none;\n",
              "      border-radius: 50%;\n",
              "      cursor: pointer;\n",
              "      display: none;\n",
              "      fill: #1967D2;\n",
              "      height: 32px;\n",
              "      padding: 0 0 0 0;\n",
              "      width: 32px;\n",
              "    }\n",
              "\n",
              "    .colab-df-convert:hover {\n",
              "      background-color: #E2EBFA;\n",
              "      box-shadow: 0px 1px 2px rgba(60, 64, 67, 0.3), 0px 1px 3px 1px rgba(60, 64, 67, 0.15);\n",
              "      fill: #174EA6;\n",
              "    }\n",
              "\n",
              "    [theme=dark] .colab-df-convert {\n",
              "      background-color: #3B4455;\n",
              "      fill: #D2E3FC;\n",
              "    }\n",
              "\n",
              "    [theme=dark] .colab-df-convert:hover {\n",
              "      background-color: #434B5C;\n",
              "      box-shadow: 0px 1px 3px 1px rgba(0, 0, 0, 0.15);\n",
              "      filter: drop-shadow(0px 1px 2px rgba(0, 0, 0, 0.3));\n",
              "      fill: #FFFFFF;\n",
              "    }\n",
              "  </style>\n",
              "\n",
              "      <script>\n",
              "        const buttonEl =\n",
              "          document.querySelector('#df-0b6d9188-8ba8-4786-a9d4-13908e787cac button.colab-df-convert');\n",
              "        buttonEl.style.display =\n",
              "          google.colab.kernel.accessAllowed ? 'block' : 'none';\n",
              "\n",
              "        async function convertToInteractive(key) {\n",
              "          const element = document.querySelector('#df-0b6d9188-8ba8-4786-a9d4-13908e787cac');\n",
              "          const dataTable =\n",
              "            await google.colab.kernel.invokeFunction('convertToInteractive',\n",
              "                                                     [key], {});\n",
              "          if (!dataTable) return;\n",
              "\n",
              "          const docLinkHtml = 'Like what you see? Visit the ' +\n",
              "            '<a target=\"_blank\" href=https://colab.research.google.com/notebooks/data_table.ipynb>data table notebook</a>'\n",
              "            + ' to learn more about interactive tables.';\n",
              "          element.innerHTML = '';\n",
              "          dataTable['output_type'] = 'display_data';\n",
              "          await google.colab.output.renderOutput(dataTable, element);\n",
              "          const docLink = document.createElement('div');\n",
              "          docLink.innerHTML = docLinkHtml;\n",
              "          element.appendChild(docLink);\n",
              "        }\n",
              "      </script>\n",
              "    </div>\n",
              "  </div>\n",
              "  "
            ]
          },
          "metadata": {},
          "execution_count": 8
        }
      ]
    },
    {
      "cell_type": "markdown",
      "source": [
        "<h4>What are the top causes of death in car accidents?"
      ],
      "metadata": {
        "id": "zVZ2hQCGeRb_"
      }
    },
    {
      "cell_type": "code",
      "source": [
        "#@title\n",
        "def reason_killed(df):\n",
        "  veh_type = ['CONTRIBUTING FACTOR VEHICLE 1',\n",
        "        'CONTRIBUTING FACTOR VEHICLE 2', 'CONTRIBUTING FACTOR VEHICLE 3',\n",
        "        'CONTRIBUTING FACTOR VEHICLE 4', 'CONTRIBUTING FACTOR VEHICLE 5']\n",
        "\n",
        "  z = pd.melt(df.reset_index(), id_vars=['index',\n",
        "        'NUMBER OF PEDESTRIANS KILLED',\n",
        "        'NUMBER OF CYCLIST KILLED',\n",
        "        'NUMBER OF MOTORIST KILLED'], value_vars= veh_type)\n",
        "\n",
        "  z = z.drop_duplicates(subset = ['index', 'value'])\n",
        "\n",
        "  killed_df = z.groupby('value').sum()\n",
        "\n",
        "  killed_df['TOTAL KILLED'] = killed_df[\"NUMBER OF PEDESTRIANS KILLED\"] +\tkilled_df[\"NUMBER OF CYCLIST KILLED\"] + killed_df[\"NUMBER OF MOTORIST KILLED\"]\n",
        "\n",
        "  killed_df = killed_df.drop(columns = 'index').sort_values(by = 'TOTAL KILLED', ascending = False)\n",
        "\n",
        "  return killed_df\n",
        "\n",
        "reason_killed(df).head(24)"
      ],
      "metadata": {
        "id": "dzh5nVYFnhnS",
        "colab": {
          "base_uri": "https://localhost:8080/",
          "height": 833
        },
        "outputId": "71b28c77-8a64-4788-ea23-840b3c9eca60"
      },
      "execution_count": null,
      "outputs": [
        {
          "output_type": "execute_result",
          "data": {
            "text/plain": [
              "                                                    NUMBER OF PEDESTRIANS KILLED  \\\n",
              "value                                                                              \n",
              "Unspecified                                                                   54   \n",
              "Failure to Yield Right-of-Way                                                 38   \n",
              "Driver Inattention/Distraction                                                16   \n",
              "Unsafe Speed                                                                   1   \n",
              "Traffic Control Disregarded                                                    5   \n",
              "Pedestrian/Bicyclist/Other Pedestrian Error/Con...                             8   \n",
              "Illnes                                                                         2   \n",
              "Backing Unsafely                                                               6   \n",
              "Lost Consciousness                                                             0   \n",
              "Driver Inexperience                                                            1   \n",
              "Alcohol Involvement                                                            1   \n",
              "Turning Improperly                                                             1   \n",
              "Reaction to Uninvolved Vehicle                                                 0   \n",
              "View Obstructed/Limited                                                        1   \n",
              "Aggressive Driving/Road Rage                                                   1   \n",
              "Glare                                                                          1   \n",
              "Passing or Lane Usage Improper                                                 0   \n",
              "Other Vehicular                                                                0   \n",
              "Following Too Closely                                                          0   \n",
              "Unsafe Lane Changing                                                           0   \n",
              "Failure to Keep Right                                                          0   \n",
              "Drugs (illegal)                                                                0   \n",
              "Driverless/Runaway Vehicle                                                     1   \n",
              "Physical Disability                                                            0   \n",
              "\n",
              "                                                    NUMBER OF CYCLIST KILLED  \\\n",
              "value                                                                          \n",
              "Unspecified                                                               18   \n",
              "Failure to Yield Right-of-Way                                              0   \n",
              "Driver Inattention/Distraction                                             8   \n",
              "Unsafe Speed                                                               2   \n",
              "Traffic Control Disregarded                                                5   \n",
              "Pedestrian/Bicyclist/Other Pedestrian Error/Con...                         1   \n",
              "Illnes                                                                     0   \n",
              "Backing Unsafely                                                           0   \n",
              "Lost Consciousness                                                         0   \n",
              "Driver Inexperience                                                        0   \n",
              "Alcohol Involvement                                                        0   \n",
              "Turning Improperly                                                         0   \n",
              "Reaction to Uninvolved Vehicle                                             1   \n",
              "View Obstructed/Limited                                                    0   \n",
              "Aggressive Driving/Road Rage                                               0   \n",
              "Glare                                                                      0   \n",
              "Passing or Lane Usage Improper                                             0   \n",
              "Other Vehicular                                                            1   \n",
              "Following Too Closely                                                      0   \n",
              "Unsafe Lane Changing                                                       1   \n",
              "Failure to Keep Right                                                      0   \n",
              "Drugs (illegal)                                                            0   \n",
              "Driverless/Runaway Vehicle                                                 0   \n",
              "Physical Disability                                                        0   \n",
              "\n",
              "                                                    NUMBER OF MOTORIST KILLED  \\\n",
              "value                                                                           \n",
              "Unspecified                                                                56   \n",
              "Failure to Yield Right-of-Way                                               9   \n",
              "Driver Inattention/Distraction                                              5   \n",
              "Unsafe Speed                                                               17   \n",
              "Traffic Control Disregarded                                                 6   \n",
              "Pedestrian/Bicyclist/Other Pedestrian Error/Con...                          0   \n",
              "Illnes                                                                      7   \n",
              "Backing Unsafely                                                            1   \n",
              "Lost Consciousness                                                          6   \n",
              "Driver Inexperience                                                         4   \n",
              "Alcohol Involvement                                                         3   \n",
              "Turning Improperly                                                          3   \n",
              "Reaction to Uninvolved Vehicle                                              2   \n",
              "View Obstructed/Limited                                                     2   \n",
              "Aggressive Driving/Road Rage                                                0   \n",
              "Glare                                                                       0   \n",
              "Passing or Lane Usage Improper                                              1   \n",
              "Other Vehicular                                                             0   \n",
              "Following Too Closely                                                       1   \n",
              "Unsafe Lane Changing                                                        0   \n",
              "Failure to Keep Right                                                       1   \n",
              "Drugs (illegal)                                                             1   \n",
              "Driverless/Runaway Vehicle                                                  0   \n",
              "Physical Disability                                                         1   \n",
              "\n",
              "                                                    TOTAL KILLED  \n",
              "value                                                             \n",
              "Unspecified                                                  128  \n",
              "Failure to Yield Right-of-Way                                 47  \n",
              "Driver Inattention/Distraction                                29  \n",
              "Unsafe Speed                                                  20  \n",
              "Traffic Control Disregarded                                   16  \n",
              "Pedestrian/Bicyclist/Other Pedestrian Error/Con...             9  \n",
              "Illnes                                                         9  \n",
              "Backing Unsafely                                               7  \n",
              "Lost Consciousness                                             6  \n",
              "Driver Inexperience                                            5  \n",
              "Alcohol Involvement                                            4  \n",
              "Turning Improperly                                             4  \n",
              "Reaction to Uninvolved Vehicle                                 3  \n",
              "View Obstructed/Limited                                        3  \n",
              "Aggressive Driving/Road Rage                                   1  \n",
              "Glare                                                          1  \n",
              "Passing or Lane Usage Improper                                 1  \n",
              "Other Vehicular                                                1  \n",
              "Following Too Closely                                          1  \n",
              "Unsafe Lane Changing                                           1  \n",
              "Failure to Keep Right                                          1  \n",
              "Drugs (illegal)                                                1  \n",
              "Driverless/Runaway Vehicle                                     1  \n",
              "Physical Disability                                            1  "
            ],
            "text/html": [
              "\n",
              "  <div id=\"df-6963a306-3e99-4651-b86e-0a64a3e24633\">\n",
              "    <div class=\"colab-df-container\">\n",
              "      <div>\n",
              "<style scoped>\n",
              "    .dataframe tbody tr th:only-of-type {\n",
              "        vertical-align: middle;\n",
              "    }\n",
              "\n",
              "    .dataframe tbody tr th {\n",
              "        vertical-align: top;\n",
              "    }\n",
              "\n",
              "    .dataframe thead th {\n",
              "        text-align: right;\n",
              "    }\n",
              "</style>\n",
              "<table border=\"1\" class=\"dataframe\">\n",
              "  <thead>\n",
              "    <tr style=\"text-align: right;\">\n",
              "      <th></th>\n",
              "      <th>NUMBER OF PEDESTRIANS KILLED</th>\n",
              "      <th>NUMBER OF CYCLIST KILLED</th>\n",
              "      <th>NUMBER OF MOTORIST KILLED</th>\n",
              "      <th>TOTAL KILLED</th>\n",
              "    </tr>\n",
              "    <tr>\n",
              "      <th>value</th>\n",
              "      <th></th>\n",
              "      <th></th>\n",
              "      <th></th>\n",
              "      <th></th>\n",
              "    </tr>\n",
              "  </thead>\n",
              "  <tbody>\n",
              "    <tr>\n",
              "      <th>Unspecified</th>\n",
              "      <td>54</td>\n",
              "      <td>18</td>\n",
              "      <td>56</td>\n",
              "      <td>128</td>\n",
              "    </tr>\n",
              "    <tr>\n",
              "      <th>Failure to Yield Right-of-Way</th>\n",
              "      <td>38</td>\n",
              "      <td>0</td>\n",
              "      <td>9</td>\n",
              "      <td>47</td>\n",
              "    </tr>\n",
              "    <tr>\n",
              "      <th>Driver Inattention/Distraction</th>\n",
              "      <td>16</td>\n",
              "      <td>8</td>\n",
              "      <td>5</td>\n",
              "      <td>29</td>\n",
              "    </tr>\n",
              "    <tr>\n",
              "      <th>Unsafe Speed</th>\n",
              "      <td>1</td>\n",
              "      <td>2</td>\n",
              "      <td>17</td>\n",
              "      <td>20</td>\n",
              "    </tr>\n",
              "    <tr>\n",
              "      <th>Traffic Control Disregarded</th>\n",
              "      <td>5</td>\n",
              "      <td>5</td>\n",
              "      <td>6</td>\n",
              "      <td>16</td>\n",
              "    </tr>\n",
              "    <tr>\n",
              "      <th>Pedestrian/Bicyclist/Other Pedestrian Error/Confusion</th>\n",
              "      <td>8</td>\n",
              "      <td>1</td>\n",
              "      <td>0</td>\n",
              "      <td>9</td>\n",
              "    </tr>\n",
              "    <tr>\n",
              "      <th>Illnes</th>\n",
              "      <td>2</td>\n",
              "      <td>0</td>\n",
              "      <td>7</td>\n",
              "      <td>9</td>\n",
              "    </tr>\n",
              "    <tr>\n",
              "      <th>Backing Unsafely</th>\n",
              "      <td>6</td>\n",
              "      <td>0</td>\n",
              "      <td>1</td>\n",
              "      <td>7</td>\n",
              "    </tr>\n",
              "    <tr>\n",
              "      <th>Lost Consciousness</th>\n",
              "      <td>0</td>\n",
              "      <td>0</td>\n",
              "      <td>6</td>\n",
              "      <td>6</td>\n",
              "    </tr>\n",
              "    <tr>\n",
              "      <th>Driver Inexperience</th>\n",
              "      <td>1</td>\n",
              "      <td>0</td>\n",
              "      <td>4</td>\n",
              "      <td>5</td>\n",
              "    </tr>\n",
              "    <tr>\n",
              "      <th>Alcohol Involvement</th>\n",
              "      <td>1</td>\n",
              "      <td>0</td>\n",
              "      <td>3</td>\n",
              "      <td>4</td>\n",
              "    </tr>\n",
              "    <tr>\n",
              "      <th>Turning Improperly</th>\n",
              "      <td>1</td>\n",
              "      <td>0</td>\n",
              "      <td>3</td>\n",
              "      <td>4</td>\n",
              "    </tr>\n",
              "    <tr>\n",
              "      <th>Reaction to Uninvolved Vehicle</th>\n",
              "      <td>0</td>\n",
              "      <td>1</td>\n",
              "      <td>2</td>\n",
              "      <td>3</td>\n",
              "    </tr>\n",
              "    <tr>\n",
              "      <th>View Obstructed/Limited</th>\n",
              "      <td>1</td>\n",
              "      <td>0</td>\n",
              "      <td>2</td>\n",
              "      <td>3</td>\n",
              "    </tr>\n",
              "    <tr>\n",
              "      <th>Aggressive Driving/Road Rage</th>\n",
              "      <td>1</td>\n",
              "      <td>0</td>\n",
              "      <td>0</td>\n",
              "      <td>1</td>\n",
              "    </tr>\n",
              "    <tr>\n",
              "      <th>Glare</th>\n",
              "      <td>1</td>\n",
              "      <td>0</td>\n",
              "      <td>0</td>\n",
              "      <td>1</td>\n",
              "    </tr>\n",
              "    <tr>\n",
              "      <th>Passing or Lane Usage Improper</th>\n",
              "      <td>0</td>\n",
              "      <td>0</td>\n",
              "      <td>1</td>\n",
              "      <td>1</td>\n",
              "    </tr>\n",
              "    <tr>\n",
              "      <th>Other Vehicular</th>\n",
              "      <td>0</td>\n",
              "      <td>1</td>\n",
              "      <td>0</td>\n",
              "      <td>1</td>\n",
              "    </tr>\n",
              "    <tr>\n",
              "      <th>Following Too Closely</th>\n",
              "      <td>0</td>\n",
              "      <td>0</td>\n",
              "      <td>1</td>\n",
              "      <td>1</td>\n",
              "    </tr>\n",
              "    <tr>\n",
              "      <th>Unsafe Lane Changing</th>\n",
              "      <td>0</td>\n",
              "      <td>1</td>\n",
              "      <td>0</td>\n",
              "      <td>1</td>\n",
              "    </tr>\n",
              "    <tr>\n",
              "      <th>Failure to Keep Right</th>\n",
              "      <td>0</td>\n",
              "      <td>0</td>\n",
              "      <td>1</td>\n",
              "      <td>1</td>\n",
              "    </tr>\n",
              "    <tr>\n",
              "      <th>Drugs (illegal)</th>\n",
              "      <td>0</td>\n",
              "      <td>0</td>\n",
              "      <td>1</td>\n",
              "      <td>1</td>\n",
              "    </tr>\n",
              "    <tr>\n",
              "      <th>Driverless/Runaway Vehicle</th>\n",
              "      <td>1</td>\n",
              "      <td>0</td>\n",
              "      <td>0</td>\n",
              "      <td>1</td>\n",
              "    </tr>\n",
              "    <tr>\n",
              "      <th>Physical Disability</th>\n",
              "      <td>0</td>\n",
              "      <td>0</td>\n",
              "      <td>1</td>\n",
              "      <td>1</td>\n",
              "    </tr>\n",
              "  </tbody>\n",
              "</table>\n",
              "</div>\n",
              "      <button class=\"colab-df-convert\" onclick=\"convertToInteractive('df-6963a306-3e99-4651-b86e-0a64a3e24633')\"\n",
              "              title=\"Convert this dataframe to an interactive table.\"\n",
              "              style=\"display:none;\">\n",
              "        \n",
              "  <svg xmlns=\"http://www.w3.org/2000/svg\" height=\"24px\"viewBox=\"0 0 24 24\"\n",
              "       width=\"24px\">\n",
              "    <path d=\"M0 0h24v24H0V0z\" fill=\"none\"/>\n",
              "    <path d=\"M18.56 5.44l.94 2.06.94-2.06 2.06-.94-2.06-.94-.94-2.06-.94 2.06-2.06.94zm-11 1L8.5 8.5l.94-2.06 2.06-.94-2.06-.94L8.5 2.5l-.94 2.06-2.06.94zm10 10l.94 2.06.94-2.06 2.06-.94-2.06-.94-.94-2.06-.94 2.06-2.06.94z\"/><path d=\"M17.41 7.96l-1.37-1.37c-.4-.4-.92-.59-1.43-.59-.52 0-1.04.2-1.43.59L10.3 9.45l-7.72 7.72c-.78.78-.78 2.05 0 2.83L4 21.41c.39.39.9.59 1.41.59.51 0 1.02-.2 1.41-.59l7.78-7.78 2.81-2.81c.8-.78.8-2.07 0-2.86zM5.41 20L4 18.59l7.72-7.72 1.47 1.35L5.41 20z\"/>\n",
              "  </svg>\n",
              "      </button>\n",
              "      \n",
              "  <style>\n",
              "    .colab-df-container {\n",
              "      display:flex;\n",
              "      flex-wrap:wrap;\n",
              "      gap: 12px;\n",
              "    }\n",
              "\n",
              "    .colab-df-convert {\n",
              "      background-color: #E8F0FE;\n",
              "      border: none;\n",
              "      border-radius: 50%;\n",
              "      cursor: pointer;\n",
              "      display: none;\n",
              "      fill: #1967D2;\n",
              "      height: 32px;\n",
              "      padding: 0 0 0 0;\n",
              "      width: 32px;\n",
              "    }\n",
              "\n",
              "    .colab-df-convert:hover {\n",
              "      background-color: #E2EBFA;\n",
              "      box-shadow: 0px 1px 2px rgba(60, 64, 67, 0.3), 0px 1px 3px 1px rgba(60, 64, 67, 0.15);\n",
              "      fill: #174EA6;\n",
              "    }\n",
              "\n",
              "    [theme=dark] .colab-df-convert {\n",
              "      background-color: #3B4455;\n",
              "      fill: #D2E3FC;\n",
              "    }\n",
              "\n",
              "    [theme=dark] .colab-df-convert:hover {\n",
              "      background-color: #434B5C;\n",
              "      box-shadow: 0px 1px 3px 1px rgba(0, 0, 0, 0.15);\n",
              "      filter: drop-shadow(0px 1px 2px rgba(0, 0, 0, 0.3));\n",
              "      fill: #FFFFFF;\n",
              "    }\n",
              "  </style>\n",
              "\n",
              "      <script>\n",
              "        const buttonEl =\n",
              "          document.querySelector('#df-6963a306-3e99-4651-b86e-0a64a3e24633 button.colab-df-convert');\n",
              "        buttonEl.style.display =\n",
              "          google.colab.kernel.accessAllowed ? 'block' : 'none';\n",
              "\n",
              "        async function convertToInteractive(key) {\n",
              "          const element = document.querySelector('#df-6963a306-3e99-4651-b86e-0a64a3e24633');\n",
              "          const dataTable =\n",
              "            await google.colab.kernel.invokeFunction('convertToInteractive',\n",
              "                                                     [key], {});\n",
              "          if (!dataTable) return;\n",
              "\n",
              "          const docLinkHtml = 'Like what you see? Visit the ' +\n",
              "            '<a target=\"_blank\" href=https://colab.research.google.com/notebooks/data_table.ipynb>data table notebook</a>'\n",
              "            + ' to learn more about interactive tables.';\n",
              "          element.innerHTML = '';\n",
              "          dataTable['output_type'] = 'display_data';\n",
              "          await google.colab.output.renderOutput(dataTable, element);\n",
              "          const docLink = document.createElement('div');\n",
              "          docLink.innerHTML = docLinkHtml;\n",
              "          element.appendChild(docLink);\n",
              "        }\n",
              "      </script>\n",
              "    </div>\n",
              "  </div>\n",
              "  "
            ]
          },
          "metadata": {},
          "execution_count": 9
        }
      ]
    },
    {
      "cell_type": "code",
      "source": [
        "#@title\n",
        "def plot_top5_reason_killed(df):\n",
        "  veh_type = ['CONTRIBUTING FACTOR VEHICLE 1',\n",
        "        'CONTRIBUTING FACTOR VEHICLE 2', 'CONTRIBUTING FACTOR VEHICLE 3',\n",
        "        'CONTRIBUTING FACTOR VEHICLE 4', 'CONTRIBUTING FACTOR VEHICLE 5']\n",
        "\n",
        "  z = pd.melt(df.reset_index(), id_vars=['index',\n",
        "        'NUMBER OF PEDESTRIANS KILLED',\n",
        "        'NUMBER OF CYCLIST KILLED',\n",
        "        'NUMBER OF MOTORIST KILLED'], value_vars= veh_type)\n",
        "\n",
        "  z = z.drop_duplicates(subset = ['index', 'value'])\n",
        "\n",
        "  killed_df = z.groupby('value').sum()\n",
        "\n",
        "  killed_df['TOTAL KILLED'] = killed_df[\"NUMBER OF PEDESTRIANS KILLED\"] +\tkilled_df[\"NUMBER OF CYCLIST KILLED\"] + killed_df[\"NUMBER OF MOTORIST KILLED\"]\n",
        "\n",
        "  killed_df = killed_df.drop(columns = ['index', 'NUMBER OF PEDESTRIANS KILLED','NUMBER OF CYCLIST KILLED','NUMBER OF MOTORIST KILLED']).sort_values(by = 'TOTAL KILLED', ascending = False)\n",
        "\n",
        "  killed_plot = killed_df.head(5).plot.bar(title = \"Top 5 Causes of Death in Car Accidents\",\n",
        "                                           xlabel = \"Contributing Factor\",\n",
        "                                           ylabel = \"Total Killed\",\n",
        "                                           rot = 70,\n",
        "                                           legend = False)\n",
        "  \n",
        "  return killed_plot \n",
        "\n",
        "plot_top5_reason_killed(df)"
      ],
      "metadata": {
        "cellView": "form",
        "id": "0Eb-Senf2Nye",
        "colab": {
          "base_uri": "https://localhost:8080/",
          "height": 444
        },
        "outputId": "b0f9197b-151b-4291-fb03-1637d6a92b96"
      },
      "execution_count": null,
      "outputs": [
        {
          "output_type": "execute_result",
          "data": {
            "text/plain": [
              "<matplotlib.axes._subplots.AxesSubplot at 0x7fd76c0d5fd0>"
            ]
          },
          "metadata": {},
          "execution_count": 10
        },
        {
          "output_type": "display_data",
          "data": {
            "text/plain": [
              "<Figure size 432x288 with 1 Axes>"
            ],
            "image/png": "[encoded data removed]"
          },
          "metadata": {
            "needs_background": "light"
          }
        }
      ]
    }
  ]
}